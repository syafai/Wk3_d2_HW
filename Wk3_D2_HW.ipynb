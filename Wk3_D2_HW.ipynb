{
 "cells": [
  {
   "cell_type": "markdown",
   "id": "224c2af9",
   "metadata": {},
   "source": [
    "# Exercise 1 - Turn the shopping cart program from last week into an object-oriented program¶\n"
   ]
  },
  {
   "cell_type": "code",
   "execution_count": null,
   "id": "600e79f8",
   "metadata": {},
   "outputs": [
    {
     "name": "stdout",
     "output_type": "stream",
     "text": [
      "What would you like to do? add, remove, show or quit add\n",
      "what would you like to add? milk\n",
      "how many milk would you like? 2\n",
      "What would you like to do? add, remove, show or quit show\n",
      "{'milk': 2}\n"
     ]
    }
   ],
   "source": [
    "class Cart():\n",
    "    \n",
    "    def __init__(self):\n",
    "        self.items = {}\n",
    "\n",
    "    def add_item(self):\n",
    "        item = input(\"what would you like to add? \")\n",
    "        quantity = int(input(f\"how many {item} would you like? \"))\n",
    "        self.items[item] = quantity\n",
    "             \n",
    "    def remove_item(self):\n",
    "        item = input(\"what would you like to remove \")\n",
    "        self.items.pop(item)\n",
    "\n",
    "\n",
    "    def show_store(self):\n",
    "        print(self.items)\n",
    "    \n",
    "def run():\n",
    "\n",
    "    my_cart = Cart()\n",
    "\n",
    "    while True:\n",
    "        response = input(\"What would you like to do? add, remove, show or quit \")\n",
    "\n",
    "        if response.lower() == 'add':\n",
    "            my_cart.add_item()\n",
    "\n",
    "        elif response.lower() == 'remove':\n",
    "            my_cart.remove_item()\n",
    "\n",
    "        elif response.lower() == \"show\":\n",
    "            my_cart.show_store()\n",
    "\n",
    "        elif response.lower() == \"quit\":\n",
    "            print(\"Thank you for shopping with us. Have a wonderful day!\")\n",
    "            my_cart.show_store()\n",
    "            break\n",
    "        else: \n",
    "            print(\"Please enter a valid response \")\n",
    "\n",
    "run()"
   ]
  },
  {
   "cell_type": "code",
   "execution_count": null,
   "id": "7902a29c",
   "metadata": {},
   "outputs": [],
   "source": []
  },
  {
   "cell_type": "markdown",
   "id": "d2c63219",
   "metadata": {},
   "source": [
    "# Exercise 2 - Write a Python class which has two methods get_String and print_String. get_String accept a string from the user and print_String print the string in upper case"
   ]
  },
  {
   "cell_type": "code",
   "execution_count": 37,
   "id": "37e74a73",
   "metadata": {},
   "outputs": [],
   "source": [
    "class StringManipulator:\n",
    "    def __init__(self):\n",
    "        self.string = \"\"\n",
    "\n",
    "    def get_String(self):\n",
    "        self.string = input(\"Enter a sentence: \")\n",
    "\n",
    "    def print_String(self):\n",
    "        print(self.string.upper())"
   ]
  },
  {
   "cell_type": "code",
   "execution_count": 38,
   "id": "393a4ee7",
   "metadata": {},
   "outputs": [
    {
     "name": "stdout",
     "output_type": "stream",
     "text": [
      "Enter a string: heloo\n",
      "HELOO\n"
     ]
    }
   ],
   "source": [
    "manipulator = StringManipulator()\n",
    "manipulator.get_String()\n",
    "manipulator.print_String()"
   ]
  },
  {
   "cell_type": "code",
   "execution_count": null,
   "id": "25de0125",
   "metadata": {},
   "outputs": [],
   "source": []
  },
  {
   "cell_type": "code",
   "execution_count": null,
   "id": "3a78b5f3",
   "metadata": {},
   "outputs": [],
   "source": []
  }
 ],
 "metadata": {
  "kernelspec": {
   "display_name": "Python 3 (ipykernel)",
   "language": "python",
   "name": "python3"
  },
  "language_info": {
   "codemirror_mode": {
    "name": "ipython",
    "version": 3
   },
   "file_extension": ".py",
   "mimetype": "text/x-python",
   "name": "python",
   "nbconvert_exporter": "python",
   "pygments_lexer": "ipython3",
   "version": "3.10.9"
  }
 },
 "nbformat": 4,
 "nbformat_minor": 5
}
